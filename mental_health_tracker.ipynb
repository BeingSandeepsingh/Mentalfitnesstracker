{
 "cells": [
  {
   "cell_type": "markdown",
   "id": "abbc4286",
   "metadata": {},
   "source": [
    "# MindSync: Mental Health Fitness Tracker"
   ]
  },
  {
   "cell_type": "markdown",
   "id": "64de7106",
   "metadata": {},
   "source": [
    "## STEP 1: IMPORT THE NECESSARY LIBRARIES"
   ]
  },
  {
   "cell_type": "code",
   "execution_count": 24,
   "id": "90b9ae71",
   "metadata": {},
   "outputs": [],
   "source": [
    "import pandas as pd\n",
    "import numpy as np\n",
    "import matplotlib.pyplot as plt\n",
    "from sklearn.model_selection import train_test_split\n",
    "from sklearn.linear_model import LinearRegression\n",
    "from sklearn.metrics import mean_squared_error, r2_score"
   ]
  },
  {
   "cell_type": "markdown",
   "id": "45c96e27",
   "metadata": {},
   "source": [
    "## STEP 2: READ THE DATA FROM THE CSV FILES"
   ]
  },
  {
   "cell_type": "code",
   "execution_count": 25,
   "id": "cd621f15",
   "metadata": {},
   "outputs": [],
   "source": [
    "df1 = pd.read_csv('mental-and-substance-use-as-share-of-disease.csv')\n",
    "df2 = pd.read_csv('prevalence-by-mental-and-substance-use-disorder.csv')"
   ]
  },
  {
   "cell_type": "markdown",
   "id": "3f5e15f6",
   "metadata": {},
   "source": [
    "## STEP 3: FILL MISSING VALUES IN NUMERIC COLUMNS OF DATAFRAMES df1 AND df2 WITH THE MEAN OF THEIR RESPECTIVE COLUMNS"
   ]
  },
  {
   "cell_type": "code",
   "execution_count": 26,
   "id": "e76e67aa",
   "metadata": {},
   "outputs": [],
   "source": [
    "numeric_columns = df1.select_dtypes(include=[np.number]).columns\n",
    "df1[numeric_columns] = df1[numeric_columns].fillna(df1[numeric_columns].mean())\n",
    "\n",
    "numeric_columns = df2.select_dtypes(include=[np.number]).columns\n",
    "df2[numeric_columns] = df2[numeric_columns].fillna(df2[numeric_columns].mean())\n"
   ]
  },
  {
   "cell_type": "markdown",
   "id": "04b4d529",
   "metadata": {},
   "source": [
    "## STEP 4: CONVERT DATA TYPES"
   ]
  },
  {
   "cell_type": "code",
   "execution_count": 27,
   "id": "864d91c6",
   "metadata": {},
   "outputs": [],
   "source": [
    "df1['DALYs (Disability-Adjusted Life Years) - Mental disorders - Sex: Both - Age: All Ages (Percent)'] = df1['DALYs (Disability-Adjusted Life Years) - Mental disorders - Sex: Both - Age: All Ages (Percent)'].astype(float)\n",
    "df2['Schizophrenia disorders (share of population) - Sex: Both - Age: Age-standardized'] = df2['Schizophrenia disorders (share of population) - Sex: Both - Age: Age-standardized'].astype(float)\n",
    "df2['Bipolar disorders (share of population) - Sex: Both - Age: Age-standardized'] = df2['Bipolar disorders (share of population) - Sex: Both - Age: Age-standardized'].astype(float)\n",
    "df2['Eating disorders (share of population) - Sex: Both - Age: Age-standardized'] = df2['Eating disorders (share of population) - Sex: Both - Age: Age-standardized'].astype(float)\n",
    "df2['Anxiety disorders (share of population) - Sex: Both - Age: Age-standardized'] = df2['Anxiety disorders (share of population) - Sex: Both - Age: Age-standardized'].astype(float)\n",
    "df2['Prevalence - Drug use disorders - Sex: Both - Age: Age-standardized (Percent)'] = df2['Prevalence - Drug use disorders - Sex: Both - Age: Age-standardized (Percent)'].astype(float)\n",
    "df2['Depressive disorders (share of population) - Sex: Both - Age: Age-standardized'] = df2['Depressive disorders (share of population) - Sex: Both - Age: Age-standardized'].astype(float)\n",
    "df2['Prevalence - Alcohol use disorders - Sex: Both - Age: Age-standardized (Percent)'] = df2['Prevalence - Alcohol use disorders - Sex: Both - Age: Age-standardized (Percent)'].astype(float)\n"
   ]
  },
  {
   "cell_type": "markdown",
   "id": "ee32d570",
   "metadata": {},
   "source": [
    "## STEP 5: MERGE THE TWO DATAFRAMES ON A COMMON COLUMN"
   ]
  },
  {
   "cell_type": "code",
   "execution_count": 28,
   "id": "a7da7038",
   "metadata": {},
   "outputs": [],
   "source": [
    "merged_df = pd.merge(df1, df2, on=['Entity', 'Code', 'Year'])\n"
   ]
  },
  {
   "cell_type": "markdown",
   "id": "d65440b0",
   "metadata": {},
   "source": [
    "## STEP 6: FEATURE THE MATRIX X AND THE VARIABLE y"
   ]
  },
  {
   "cell_type": "code",
   "execution_count": 29,
   "id": "3f8abdf8",
   "metadata": {},
   "outputs": [],
   "source": [
    "X = merged_df[['Schizophrenia disorders (share of population) - Sex: Both - Age: Age-standardized',\n",
    "               'Bipolar disorders (share of population) - Sex: Both - Age: Age-standardized',\n",
    "               'Eating disorders (share of population) - Sex: Both - Age: Age-standardized',\n",
    "               'Anxiety disorders (share of population) - Sex: Both - Age: Age-standardized',\n",
    "               'Prevalence - Drug use disorders - Sex: Both - Age: Age-standardized (Percent)',\n",
    "               'Depressive disorders (share of population) - Sex: Both - Age: Age-standardized',\n",
    "               'Prevalence - Alcohol use disorders - Sex: Both - Age: Age-standardized (Percent)']]\n",
    "\n",
    "y = merged_df['DALYs (Disability-Adjusted Life Years) - Mental disorders - Sex: Both - Age: All Ages (Percent)']"
   ]
  },
  {
   "cell_type": "markdown",
   "id": "96645b55",
   "metadata": {},
   "source": [
    "## STEP 7: SPLIT THE DATA INTO TRAINING AND TESTING SETS"
   ]
  },
  {
   "cell_type": "code",
   "execution_count": 30,
   "id": "b1fb6711",
   "metadata": {},
   "outputs": [],
   "source": [
    "X_train, X_test, y_train, y_test = train_test_split(X, y, test_size=0.2, random_state=42)"
   ]
  },
  {
   "cell_type": "markdown",
   "id": "279548c8",
   "metadata": {},
   "source": [
    "## STEP 8: FIT THE LINEAR REGRESSION MODEL"
   ]
  },
  {
   "cell_type": "code",
   "execution_count": 31,
   "id": "e54c13c0",
   "metadata": {
    "scrolled": true
   },
   "outputs": [
    {
     "data": {
      "text/html": [
       "<style>#sk-container-id-2 {color: black;background-color: white;}#sk-container-id-2 pre{padding: 0;}#sk-container-id-2 div.sk-toggleable {background-color: white;}#sk-container-id-2 label.sk-toggleable__label {cursor: pointer;display: block;width: 100%;margin-bottom: 0;padding: 0.3em;box-sizing: border-box;text-align: center;}#sk-container-id-2 label.sk-toggleable__label-arrow:before {content: \"▸\";float: left;margin-right: 0.25em;color: #696969;}#sk-container-id-2 label.sk-toggleable__label-arrow:hover:before {color: black;}#sk-container-id-2 div.sk-estimator:hover label.sk-toggleable__label-arrow:before {color: black;}#sk-container-id-2 div.sk-toggleable__content {max-height: 0;max-width: 0;overflow: hidden;text-align: left;background-color: #f0f8ff;}#sk-container-id-2 div.sk-toggleable__content pre {margin: 0.2em;color: black;border-radius: 0.25em;background-color: #f0f8ff;}#sk-container-id-2 input.sk-toggleable__control:checked~div.sk-toggleable__content {max-height: 200px;max-width: 100%;overflow: auto;}#sk-container-id-2 input.sk-toggleable__control:checked~label.sk-toggleable__label-arrow:before {content: \"▾\";}#sk-container-id-2 div.sk-estimator input.sk-toggleable__control:checked~label.sk-toggleable__label {background-color: #d4ebff;}#sk-container-id-2 div.sk-label input.sk-toggleable__control:checked~label.sk-toggleable__label {background-color: #d4ebff;}#sk-container-id-2 input.sk-hidden--visually {border: 0;clip: rect(1px 1px 1px 1px);clip: rect(1px, 1px, 1px, 1px);height: 1px;margin: -1px;overflow: hidden;padding: 0;position: absolute;width: 1px;}#sk-container-id-2 div.sk-estimator {font-family: monospace;background-color: #f0f8ff;border: 1px dotted black;border-radius: 0.25em;box-sizing: border-box;margin-bottom: 0.5em;}#sk-container-id-2 div.sk-estimator:hover {background-color: #d4ebff;}#sk-container-id-2 div.sk-parallel-item::after {content: \"\";width: 100%;border-bottom: 1px solid gray;flex-grow: 1;}#sk-container-id-2 div.sk-label:hover label.sk-toggleable__label {background-color: #d4ebff;}#sk-container-id-2 div.sk-serial::before {content: \"\";position: absolute;border-left: 1px solid gray;box-sizing: border-box;top: 0;bottom: 0;left: 50%;z-index: 0;}#sk-container-id-2 div.sk-serial {display: flex;flex-direction: column;align-items: center;background-color: white;padding-right: 0.2em;padding-left: 0.2em;position: relative;}#sk-container-id-2 div.sk-item {position: relative;z-index: 1;}#sk-container-id-2 div.sk-parallel {display: flex;align-items: stretch;justify-content: center;background-color: white;position: relative;}#sk-container-id-2 div.sk-item::before, #sk-container-id-2 div.sk-parallel-item::before {content: \"\";position: absolute;border-left: 1px solid gray;box-sizing: border-box;top: 0;bottom: 0;left: 50%;z-index: -1;}#sk-container-id-2 div.sk-parallel-item {display: flex;flex-direction: column;z-index: 1;position: relative;background-color: white;}#sk-container-id-2 div.sk-parallel-item:first-child::after {align-self: flex-end;width: 50%;}#sk-container-id-2 div.sk-parallel-item:last-child::after {align-self: flex-start;width: 50%;}#sk-container-id-2 div.sk-parallel-item:only-child::after {width: 0;}#sk-container-id-2 div.sk-dashed-wrapped {border: 1px dashed gray;margin: 0 0.4em 0.5em 0.4em;box-sizing: border-box;padding-bottom: 0.4em;background-color: white;}#sk-container-id-2 div.sk-label label {font-family: monospace;font-weight: bold;display: inline-block;line-height: 1.2em;}#sk-container-id-2 div.sk-label-container {text-align: center;}#sk-container-id-2 div.sk-container {/* jupyter's `normalize.less` sets `[hidden] { display: none; }` but bootstrap.min.css set `[hidden] { display: none !important; }` so we also need the `!important` here to be able to override the default hidden behavior on the sphinx rendered scikit-learn.org. See: https://github.com/scikit-learn/scikit-learn/issues/21755 */display: inline-block !important;position: relative;}#sk-container-id-2 div.sk-text-repr-fallback {display: none;}</style><div id=\"sk-container-id-2\" class=\"sk-top-container\"><div class=\"sk-text-repr-fallback\"><pre>LinearRegression()</pre><b>In a Jupyter environment, please rerun this cell to show the HTML representation or trust the notebook. <br />On GitHub, the HTML representation is unable to render, please try loading this page with nbviewer.org.</b></div><div class=\"sk-container\" hidden><div class=\"sk-item\"><div class=\"sk-estimator sk-toggleable\"><input class=\"sk-toggleable__control sk-hidden--visually\" id=\"sk-estimator-id-2\" type=\"checkbox\" checked><label for=\"sk-estimator-id-2\" class=\"sk-toggleable__label sk-toggleable__label-arrow\">LinearRegression</label><div class=\"sk-toggleable__content\"><pre>LinearRegression()</pre></div></div></div></div></div>"
      ],
      "text/plain": [
       "LinearRegression()"
      ]
     },
     "execution_count": 31,
     "metadata": {},
     "output_type": "execute_result"
    }
   ],
   "source": [
    "model = LinearRegression()\n",
    "model.fit(X_train, y_train)"
   ]
  },
  {
   "cell_type": "markdown",
   "id": "1d8cc2b6",
   "metadata": {},
   "source": [
    "## STEP 9: MAKE A PREDICTION USING TRAINED MODEL"
   ]
  },
  {
   "cell_type": "code",
   "execution_count": 32,
   "id": "f33b8c14",
   "metadata": {},
   "outputs": [],
   "source": [
    "y_pred = model.predict(X_test)"
   ]
  },
  {
   "cell_type": "markdown",
   "id": "64140fa3",
   "metadata": {},
   "source": [
    "## STEP 10: EVALUATE THE MODEL'S PERFORMANCE USING RIDGE REGRESSION AND LASSO REGRESSION"
   ]
  },
  {
   "cell_type": "code",
   "execution_count": 33,
   "id": "8523f850",
   "metadata": {},
   "outputs": [
    {
     "name": "stdout",
     "output_type": "stream",
     "text": [
      "Ridge Regression - Mean Squared Error: 1.8852828652623428\n",
      "Ridge Regression - R-squared Score: 0.6309285836156879\n",
      "Lasso Regression - Mean Squared Error: 2.7797420357684963\n",
      "Lasso Regression - R-squared Score: 0.455825250827106\n"
     ]
    }
   ],
   "source": [
    "# Example using Ridge regression\n",
    "from sklearn.linear_model import Ridge\n",
    "ridge_model = Ridge(alpha=0.5)\n",
    "ridge_model.fit(X_train, y_train)\n",
    "ridge_y_pred = ridge_model.predict(X_test)\n",
    "ridge_mse = mean_squared_error(y_test, ridge_y_pred)\n",
    "ridge_r2 = r2_score(y_test, ridge_y_pred)\n",
    "print('Ridge Regression - Mean Squared Error:', ridge_mse)\n",
    "print('Ridge Regression - R-squared Score:', ridge_r2)\n",
    "\n",
    "# Example using Lasso regression\n",
    "from sklearn.linear_model import Lasso\n",
    "lasso_model = Lasso(alpha=0.1)\n",
    "lasso_model.fit(X_train, y_train)\n",
    "lasso_y_pred = lasso_model.predict(X_test)\n",
    "lasso_mse = mean_squared_error(y_test, lasso_y_pred)\n",
    "lasso_r2 = r2_score(y_test, lasso_y_pred)\n",
    "print('Lasso Regression - Mean Squared Error:', lasso_mse)\n",
    "print('Lasso Regression - R-squared Score:', lasso_r2)\n"
   ]
  },
  {
   "cell_type": "markdown",
   "id": "739b912a",
   "metadata": {},
   "source": [
    "## STEP 11: FITTING REGRESSION MODELS TO THE TRAINING DATA AND MAKING PREDICTION ON THE TEST DATA AND CALCULATING MEAN SQUARED ERROR (MSE) AND R-SQUARED SCORE FOR EACH MODEL"
   ]
  },
  {
   "cell_type": "code",
   "execution_count": 34,
   "id": "5d3ae878",
   "metadata": {
    "scrolled": true
   },
   "outputs": [
    {
     "name": "stdout",
     "output_type": "stream",
     "text": [
      "Ridge Regression:\n",
      "Mean Squared Error (MSE): 1.900177686158299\n",
      "R-squared Score: 0.6280127067750545\n",
      "Lasso Regression:\n",
      "Mean Squared Error (MSE): 4.392554827214733\n",
      "R-squared Score: 0.14009379626950635\n"
     ]
    }
   ],
   "source": [
    "# Fit Ridge Regression model\n",
    "ridge_model = Ridge(alpha=1.0)\n",
    "ridge_model.fit(X_train, y_train)\n",
    "\n",
    "# Predict using Ridge Regression\n",
    "ridge_y_pred = ridge_model.predict(X_test)\n",
    "\n",
    "# Calculate MSE and R-squared score for Ridge Regression\n",
    "ridge_mse = mean_squared_error(y_test, ridge_y_pred)\n",
    "ridge_r2 = r2_score(y_test, ridge_y_pred)\n",
    "\n",
    "print(\"Ridge Regression:\")\n",
    "print(\"Mean Squared Error (MSE):\", ridge_mse)\n",
    "print(\"R-squared Score:\", ridge_r2)\n",
    "\n",
    "# Fit Lasso Regression model\n",
    "lasso_model = Lasso(alpha=1.0)\n",
    "lasso_model.fit(X_train, y_train)\n",
    "\n",
    "# Predict using Lasso Regression\n",
    "lasso_y_pred = lasso_model.predict(X_test)\n",
    "\n",
    "# Calculate MSE and R-squared score for Lasso Regression\n",
    "lasso_mse = mean_squared_error(y_test, lasso_y_pred)\n",
    "lasso_r2 = r2_score(y_test, lasso_y_pred)\n",
    "\n",
    "print(\"Lasso Regression:\")\n",
    "print(\"Mean Squared Error (MSE):\", lasso_mse)\n",
    "print(\"R-squared Score:\", lasso_r2)\n"
   ]
  },
  {
   "cell_type": "markdown",
   "id": "02709750",
   "metadata": {},
   "source": [
    "## STEP 12: IT DISPLAYS SCORE OF BOTH THE MODELS IN A VISUAL FORMAT"
   ]
  },
  {
   "cell_type": "code",
   "execution_count": 35,
   "id": "d6d8f84a",
   "metadata": {},
   "outputs": [
    {
     "data": {
      "image/png": "[encoded data removed]",
      "text/plain": [
       "<Figure size 800x400 with 1 Axes>"
      ]
     },
     "metadata": {},
     "output_type": "display_data"
    },
    {
     "data": {
      "image/png": "[encoded data removed]",
      "text/plain": [
       "<Figure size 800x400 with 1 Axes>"
      ]
     },
     "metadata": {},
     "output_type": "display_data"
    }
   ],
   "source": [
    "# Calculate MSE and R-squared scores\n",
    "ridge_mse = mean_squared_error(y_test, ridge_y_pred)\n",
    "ridge_r2 = r2_score(y_test, ridge_y_pred)\n",
    "\n",
    "lasso_mse = mean_squared_error(y_test, lasso_y_pred)\n",
    "lasso_r2 = r2_score(y_test, lasso_y_pred)\n",
    "\n",
    "# Create a bar plot for MSE scores\n",
    "plt.figure(figsize=(8, 4))\n",
    "plt.bar(['Ridge Regression', 'Lasso Regression'], [ridge_mse, lasso_mse])\n",
    "plt.xlabel('Regression Model')\n",
    "plt.ylabel('Mean Squared Error (MSE)')\n",
    "plt.title('Comparison of MSE Scores: Ridge vs Lasso Regression')\n",
    "plt.show()\n",
    "\n",
    "# Create a bar plot for R-squared scores\n",
    "plt.figure(figsize=(8, 4))\n",
    "plt.bar(['Ridge Regression', 'Lasso Regression'], [ridge_r2, lasso_r2])\n",
    "plt.xlabel('Regression Model')\n",
    "plt.ylabel('R-squared Score')\n",
    "plt.title('Comparison of R-squared Scores: Ridge vs Lasso Regression')\n",
    "plt.show()"
   ]
  },
  {
   "cell_type": "markdown",
   "id": "0760a874",
   "metadata": {},
   "source": [
    "## STEP 13: IT PRINTS OUT THE RESULT AS WELL AS THE CODE"
   ]
  },
  {
   "cell_type": "code",
   "execution_count": 36,
   "id": "aebb45ce",
   "metadata": {},
   "outputs": [
    {
     "name": "stdout",
     "output_type": "stream",
     "text": [
      "Ridge Regression is more accurate.\n",
      "Reason: Ridge Regression has a lower MSE and higher R-squared score.\n"
     ]
    }
   ],
   "source": [
    "# Compare the scores of Ridge Regression and Lasso Regression\n",
    "if ridge_mse < lasso_mse and ridge_r2 > lasso_r2:\n",
    "    print(\"Ridge Regression is more accurate.\")\n",
    "    print(\"Reason: Ridge Regression has a lower MSE and higher R-squared score.\")\n",
    "elif lasso_mse < ridge_mse and lasso_r2 > ridge_r2:\n",
    "    print(\"Lasso Regression is more accurate.\")\n",
    "    print(\"Reason: Lasso Regression has a lower MSE and higher R-squared score.\")\n",
    "elif ridge_mse == lasso_mse and ridge_r2 == lasso_r2:\n",
    "    print(\"Both Ridge Regression and Lasso Regression have similar accuracy.\")\n",
    "    print(\"Reason: The MSE and R-squared scores are equal for both models.\")\n",
    "else:\n",
    "    print(\"Unable to determine which model is more accurate.\")\n"
   ]
  }
 ],
 "metadata": {
  "kernelspec": {
   "display_name": "Python 3 (ipykernel)",
   "language": "python",
   "name": "python3"
  },
  "language_info": {
   "codemirror_mode": {
    "name": "ipython",
    "version": 3
   },
   "file_extension": ".py",
   "mimetype": "text/x-python",
   "name": "python",
   "nbconvert_exporter": "python",
   "pygments_lexer": "ipython3",
   "version": "3.11.4"
  }
 },
 "nbformat": 4,
 "nbformat_minor": 5
}
